{
 "cells": [
  {
   "cell_type": "code",
   "execution_count": null,
   "metadata": {},
   "outputs": [],
   "source": [
    "#modules\n",
    "\n",
    "import csv\n",
    "import matplotlib.pyplot as plt\n",
    "import requests\n",
    "import pandas as pd\n",
    "import numpy as np\n",
    "from pprint import pprint\n",
    "\n"
   ]
  },
  {
   "cell_type": "code",
   "execution_count": null,
   "metadata": {},
   "outputs": [],
   "source": [
    "#define api key, endpoint\n",
    "\n",
    "API_KEY = 'ENTER YOUR API KEY HERE!'\n",
    "HEADERS = {'Authorization':  'Bearer %s' % API_KEY}\n",
    "\n",
    "\n",
    "\n",
    "#offset = 5000\n",
    "#define parameters for search\n",
    "#params = {'term':'restaurants', 'food',\n",
    "          #'limit': 50,\n",
    "          #'radius': 40000,\n",
    "          #pagination\n",
    "          #'offset': offset,\n",
    "          #'location':'Los Angeles'}\n",
    "            \n",
    "yelp_data = []\n",
    "offset = 0\n",
    "#daily API call limit:5,000\n",
    "for x in range(20):\n",
    "    offset = x *50\n",
    "    params = {\n",
    "        'term':'restaurants',\n",
    "        'limit': 50,\n",
    "        # The max value is 40000 meters (about 25 miles) https://www.yelp.com/developers/documentation/v3/business_search\n",
    "        'radius': 40000,\n",
    "        #pagination\n",
    "        'offset': offset,\n",
    "        'location':'Los Angeles'\n",
    "    }\n",
    "    \n",
    "#make a request to yelp api store response in variable \n",
    "    response_Yelp = requests.get(url, params= params, headers = HEADERS)\n",
    "\n",
    "# convert the JSON string to a Dic\n",
    "    data = response_Yelp.json()\n",
    "    print(data.keys())\n",
    "\n",
    "#pprint(business)\n",
    "\n",
    "#get the businesses loop through\n",
    "    print(\"=\"* 64)\n",
    "    for business in data['businesses']:\n",
    "#print(\"=\"* 16)\n",
    "#pprint(business)\n",
    "\n",
    "        yelp_columns = {\n",
    "            \"alias\":business[\"categories\"][0][\"alias\"],\n",
    "            \"name\":business[\"name\"],\n",
    "            \"latitude\":str(business[\"coordinates\"][\"latitude\"]),\n",
    "            \"longitude\":str(business[\"coordinates\"][\"longitude\"]),\n",
    "            \"is_closed\":business[\"is_closed\"], \n",
    "            \"rating\":business[\"rating\"], \n",
    "            \"review_count\":business[\"review_count\"]\n",
    "        }\n",
    "    \n",
    "#         print(yelp_columns)\n",
    "        yelp_data.append(yelp_columns)\n",
    "\n",
    "#array to dataframe, then dataFrame to CSV\n",
    "\n",
    "data_csv = pd.DataFrame(yelp_data)\n",
    "\n",
    "#rename alias column to category\n",
    "data_csv.rename(columns={'alias': 'category'}, inplace=True)\n",
    "\n",
    "    "
   ]
  },
  {
   "cell_type": "code",
   "execution_count": null,
   "metadata": {},
   "outputs": [],
   "source": [
    "#pprint(business)\n",
    "print(data_csv)"
   ]
  },
  {
   "cell_type": "code",
   "execution_count": null,
   "metadata": {},
   "outputs": [],
   "source": [
    "#saving the dataframe\n",
    "\n",
    "data_csv.to_csv('40k.csv')"
   ]
  },
  {
   "cell_type": "code",
   "execution_count": null,
   "metadata": {},
   "outputs": [],
   "source": []
  },
  {
   "cell_type": "code",
   "execution_count": null,
   "metadata": {},
   "outputs": [],
   "source": []
  }
 ],
 "metadata": {
  "kernelspec": {
   "display_name": "PythonData",
   "language": "python",
   "name": "pythondata"
  },
  "language_info": {
   "codemirror_mode": {
    "name": "ipython",
    "version": 3
   },
   "file_extension": ".py",
   "mimetype": "text/x-python",
   "name": "python",
   "nbconvert_exporter": "python",
   "pygments_lexer": "ipython3",
   "version": "3.6.8"
  }
 },
 "nbformat": 4,
 "nbformat_minor": 2
}
