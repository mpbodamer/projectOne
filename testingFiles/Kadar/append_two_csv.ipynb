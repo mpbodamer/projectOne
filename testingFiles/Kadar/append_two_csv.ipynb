{
 "cells": [
  {
   "cell_type": "code",
   "execution_count": 16,
   "metadata": {},
   "outputs": [],
   "source": [
    "# Dependencies\n",
    "import pandas as pd\n",
    "import matplotlib.pyplot as plt"
   ]
  },
  {
   "cell_type": "code",
   "execution_count": 17,
   "metadata": {},
   "outputs": [],
   "source": [
    "# read both of the csv files\n",
    "\n",
    "data_file = \"yelp_data2.csv\"\n",
    "data_file2 = \"40k.csv\"\n",
    "\n",
    "\n",
    "# convert both of the csv files to two DatFrames\n",
    "\n",
    "df1 = pd.read_csv(data_file)\n",
    "df2 = pd.read_csv(data_file2)\n",
    "\n",
    "\n",
    "# Append both of the DataFrames to a single DataFrame\n",
    "\n",
    "\n",
    "df = df1.append(df2)\n",
    "\n",
    "#df.describe()\n",
    "\n",
    "\n",
    "# remove columns\n",
    "#df = df.iloc[:,21:]\n",
    "\n",
    "\n",
    "df.drop(\"Unnamed: 0\", axis=1, inplace=True )\n"
   ]
  },
  {
   "cell_type": "code",
   "execution_count": 18,
   "metadata": {},
   "outputs": [],
   "source": [
    "df = df.drop_duplicates()\n",
    "df = df.reset_index(drop=True)"
   ]
  },
  {
   "cell_type": "code",
   "execution_count": 19,
   "metadata": {},
   "outputs": [
    {
     "data": {
      "text/html": [
       "<div>\n",
       "<style scoped>\n",
       "    .dataframe tbody tr th:only-of-type {\n",
       "        vertical-align: middle;\n",
       "    }\n",
       "\n",
       "    .dataframe tbody tr th {\n",
       "        vertical-align: top;\n",
       "    }\n",
       "\n",
       "    .dataframe thead th {\n",
       "        text-align: right;\n",
       "    }\n",
       "</style>\n",
       "<table border=\"1\" class=\"dataframe\">\n",
       "  <thead>\n",
       "    <tr style=\"text-align: right;\">\n",
       "      <th></th>\n",
       "      <th>latitude</th>\n",
       "      <th>longitude</th>\n",
       "      <th>rating</th>\n",
       "      <th>review_count</th>\n",
       "    </tr>\n",
       "  </thead>\n",
       "  <tbody>\n",
       "    <tr>\n",
       "      <th>count</th>\n",
       "      <td>2715.000000</td>\n",
       "      <td>2715.000000</td>\n",
       "      <td>2715.000000</td>\n",
       "      <td>2715.000000</td>\n",
       "    </tr>\n",
       "    <tr>\n",
       "      <th>mean</th>\n",
       "      <td>34.065305</td>\n",
       "      <td>-118.307521</td>\n",
       "      <td>4.189134</td>\n",
       "      <td>933.327808</td>\n",
       "    </tr>\n",
       "    <tr>\n",
       "      <th>std</th>\n",
       "      <td>0.029432</td>\n",
       "      <td>0.051765</td>\n",
       "      <td>0.363765</td>\n",
       "      <td>1196.964016</td>\n",
       "    </tr>\n",
       "    <tr>\n",
       "      <th>min</th>\n",
       "      <td>33.952470</td>\n",
       "      <td>-118.444317</td>\n",
       "      <td>2.500000</td>\n",
       "      <td>1.000000</td>\n",
       "    </tr>\n",
       "    <tr>\n",
       "      <th>25%</th>\n",
       "      <td>34.048111</td>\n",
       "      <td>-118.344867</td>\n",
       "      <td>4.000000</td>\n",
       "      <td>243.000000</td>\n",
       "    </tr>\n",
       "    <tr>\n",
       "      <th>50%</th>\n",
       "      <td>34.063407</td>\n",
       "      <td>-118.305408</td>\n",
       "      <td>4.000000</td>\n",
       "      <td>588.000000</td>\n",
       "    </tr>\n",
       "    <tr>\n",
       "      <th>75%</th>\n",
       "      <td>34.083482</td>\n",
       "      <td>-118.261219</td>\n",
       "      <td>4.500000</td>\n",
       "      <td>1192.000000</td>\n",
       "    </tr>\n",
       "    <tr>\n",
       "      <th>max</th>\n",
       "      <td>34.171995</td>\n",
       "      <td>-118.191208</td>\n",
       "      <td>5.000000</td>\n",
       "      <td>16584.000000</td>\n",
       "    </tr>\n",
       "  </tbody>\n",
       "</table>\n",
       "</div>"
      ],
      "text/plain": [
       "          latitude    longitude       rating  review_count\n",
       "count  2715.000000  2715.000000  2715.000000   2715.000000\n",
       "mean     34.065305  -118.307521     4.189134    933.327808\n",
       "std       0.029432     0.051765     0.363765   1196.964016\n",
       "min      33.952470  -118.444317     2.500000      1.000000\n",
       "25%      34.048111  -118.344867     4.000000    243.000000\n",
       "50%      34.063407  -118.305408     4.000000    588.000000\n",
       "75%      34.083482  -118.261219     4.500000   1192.000000\n",
       "max      34.171995  -118.191208     5.000000  16584.000000"
      ]
     },
     "execution_count": 19,
     "metadata": {},
     "output_type": "execute_result"
    }
   ],
   "source": [
    "df.head()\n",
    "df.describe()"
   ]
  },
  {
   "cell_type": "code",
   "execution_count": 20,
   "metadata": {},
   "outputs": [],
   "source": [
    "#saving the dataframe\n",
    "\n",
    "df.to_csv('yelp_data10.csv')"
   ]
  },
  {
   "cell_type": "code",
   "execution_count": null,
   "metadata": {},
   "outputs": [],
   "source": []
  },
  {
   "cell_type": "code",
   "execution_count": null,
   "metadata": {},
   "outputs": [],
   "source": []
  }
 ],
 "metadata": {
  "kernelspec": {
   "display_name": "PythonData",
   "language": "python",
   "name": "pythondata"
  },
  "language_info": {
   "codemirror_mode": {
    "name": "ipython",
    "version": 3
   },
   "file_extension": ".py",
   "mimetype": "text/x-python",
   "name": "python",
   "nbconvert_exporter": "python",
   "pygments_lexer": "ipython3",
   "version": "3.6.8"
  }
 },
 "nbformat": 4,
 "nbformat_minor": 2
}
