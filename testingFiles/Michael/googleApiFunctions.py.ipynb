{
 "cells": [
  {
   "cell_type": "markdown",
   "metadata": {},
   "source": [
    "## Overview\n",
    "    This file contains 1 function: findDistrict\n",
    "    \n",
    "### findDistrict( lat, lng, googleApiKey )\n",
    "    Dependencies: json, requests\n",
    "    Inputs: lat(int), lng(int), googleApiKey(str)\n",
    "    Output: locality(str) if successful, \"null\"(str) if unsuccessful\n",
    "    \n",
    "    Description:\n",
    "    findDistrict will use the provided coordinates to build a url and retrive data from that endpoint. It'll\n",
    "    then search through the address components till it finds the locality, and then return the the name of \n",
    "    the locality. If it is unable to find the locality component, it will return \"null\". If it gets to the end\n",
    "    of the function without returning the address, it will also return \"null\""
   ]
  },
  {
   "cell_type": "code",
   "execution_count": 90,
   "metadata": {},
   "outputs": [],
   "source": [
    "import json\n",
    "import requests\n",
    "\n",
    "def findDistrict(lat, lng, googleApiKey): #Outputs a district name in the form of a string.\n",
    "    endpointURL = f\"https://maps.googleapis.com/maps/api/geocode/json?latlng={lat},{lng}&key={googleApiKey}\"\n",
    "    try:\n",
    "        response = requests.get(endpointURL).json()\n",
    "        addressComponents = response[\"results\"][0]['address_components']\n",
    "        for i in range(len(addressComponents)):\n",
    "            if (addressComponents[i]['types'][0] == 'locality'):\n",
    "                return addressComponents[i]['long_name']\n",
    "    except (KeyError, ValueError):\n",
    "        print(\"KeyError or ValueError occured, district name was not retrivable.\")\n",
    "    return \"null\""
   ]
  },
  {
   "cell_type": "code",
   "execution_count": 91,
   "metadata": {},
   "outputs": [
    {
     "data": {
      "text/plain": [
       "'Carson'"
      ]
     },
     "execution_count": 91,
     "metadata": {},
     "output_type": "execute_result"
    }
   ],
   "source": [
    "findDistrict(33.822649, -118.281558,\"googleApiKey\")"
   ]
  },
  {
   "cell_type": "code",
   "execution_count": null,
   "metadata": {},
   "outputs": [],
   "source": []
  }
 ],
 "metadata": {
  "kernelspec": {
   "display_name": "Python 3",
   "language": "python",
   "name": "python3"
  },
  "language_info": {
   "codemirror_mode": {
    "name": "ipython",
    "version": 3
   },
   "file_extension": ".py",
   "mimetype": "text/x-python",
   "name": "python",
   "nbconvert_exporter": "python",
   "pygments_lexer": "ipython3",
   "version": "3.7.3"
  }
 },
 "nbformat": 4,
 "nbformat_minor": 2
}
