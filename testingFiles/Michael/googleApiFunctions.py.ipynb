{
 "cells": [
  {
   "cell_type": "markdown",
   "metadata": {},
   "source": [
    "## Overview\n",
    "    This file contains 3 functions: findDistrict(), findDistrictDataframe(), and findCitipyDistrict()\n",
    "    \n",
    "### findDistrict( lat, lng, googleApiKey )\n",
    "    Dependencies: json, requests\n",
    "    Inputs: lat(int), lng(int), googleApiKey(str)\n",
    "    Output: locality(str) if successful, \"null\"(str) if unsuccessful\n",
    "    \n",
    "    Description:\n",
    "    findDistrict will use the provided coordinates to build a url and retrive data from that endpoint. It'll\n",
    "    then search through the address components till it finds the locality, and then return the the name of \n",
    "    the locality. If it is unable to find the locality component, it will return \"null\". If it gets to the end\n",
    "    of the function without returning the address, it will also return \"null\"\n",
    "    \n",
    "### findDistrictDataframe( df, googleApiKey )\n",
    "    Dependencies: json, request, pandas, findDistrict()\n",
    "    Inputs: df(dataframe), googleApiKey(str)\n",
    "    Output: dataframe\n",
    "    \n",
    "    Description: findDistrictDataframe applies the functionality of findDistrict to a dataframe. It'll take two \n",
    "    columns from the dataframe (NOTE: COLUMNS MUST BE CALLED latitude AND longitude) and convert them to a list.\n",
    "    Using the elements from that list, it'll call findDistrict, append the value to the list, and later add that\n",
    "    list to a new column in the dataframe called \"district\"\n",
    "    \n",
    "### findCitipyDistrict( df )\n",
    "    Dependencies: citipy, pandas\n",
    "    Inputs: df(dataframe)\n",
    "    Output: dataframe\n",
    "    \n",
    "    Description: Operates in the same manner as findDistrictDataframe, except instead of calling findDistrict, it\n",
    "    uses the citipy library to return a result. Often provides a larger locality than findDistrict."
   ]
  },
  {
   "cell_type": "code",
   "execution_count": 44,
   "metadata": {},
   "outputs": [],
   "source": [
    "import json\n",
    "import requests\n",
    "import pandas as pd\n",
    "from citipy import citipy\n",
    "from pprint import pprint\n",
    "\n",
    "def findDistrict(lat, lng, googleApiKey): #Outputs a district name in the form of a string.\n",
    "    endpointURL = f\"https://maps.googleapis.com/maps/api/geocode/json?latlng={lat},{lng}&key={googleApiKey}\"\n",
    "    try:\n",
    "        response = requests.get(endpointURL).json()\n",
    "        addressComponents = response[\"results\"][0]['address_components']\n",
    "        for i in range(len(addressComponents)):\n",
    "            if (addressComponents[i]['types'][0] == 'neighborhood'):\n",
    "                return addressComponents[i]['long_name']\n",
    "    except (KeyError, ValueError):\n",
    "        print(\"KeyError or ValueError occured, district name was not retrivable.\")\n",
    "    return \"null\"\n",
    "\n",
    "def districtDataframe(df, googleApiKey):\n",
    "    latitude = df['latitude'].tolist()\n",
    "    longitude = df['longitude'].tolist()\n",
    "    district = []\n",
    "    for i in range(len(latitude)):\n",
    "        district.append(findDistrict(latitude[i], longitude[i], googleApiKey))\n",
    "    df['district'] = district\n",
    "    pprint(df)\n",
    "    return df"
   ]
  },
  {
   "cell_type": "code",
   "execution_count": 40,
   "metadata": {},
   "outputs": [],
   "source": [
    "def citipyDistrict(df):\n",
    "    latitude = df['latitude'].tolist()\n",
    "    longitude = df['longitude'].tolist()\n",
    "    district = []\n",
    "    for i in range(len(latitude)):\n",
    "        city = citipy.nearest_city(latitude[i],longitude[i])\n",
    "        district.append(city.city_name)\n",
    "    df['district'] = district\n",
    "    pprint(df)\n",
    "    return df"
   ]
  }
 ],
 "metadata": {
  "kernelspec": {
   "display_name": "Python 3",
   "language": "python",
   "name": "python3"
  },
  "language_info": {
   "codemirror_mode": {
    "name": "ipython",
    "version": 3
   },
   "file_extension": ".py",
   "mimetype": "text/x-python",
   "name": "python",
   "nbconvert_exporter": "python",
   "pygments_lexer": "ipython3",
   "version": "3.7.3"
  }
 },
 "nbformat": 4,
 "nbformat_minor": 2
}
