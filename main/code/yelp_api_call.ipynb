{
 "cells": [
  {
   "cell_type": "code",
   "execution_count": 1,
   "metadata": {},
   "outputs": [],
   "source": [
    "#modules\n",
    "\n",
    "import csv\n",
    "import matplotlib.pyplot as plt\n",
    "import requests\n",
    "import pandas as pd\n"
   ]
  },
  {
   "cell_type": "code",
   "execution_count": 15,
   "metadata": {},
   "outputs": [
    {
     "name": "stdout",
     "output_type": "stream",
     "text": [
      "dict_keys(['businesses', 'total', 'region'])\n",
      "Fog Harbor Fish House\n",
      "Marufuku Ramen SF\n",
      "The House\n",
      "Farmhouse Kitchen Thai Cuisine\n",
      "Delarosa\n",
      "Dumpling House\n",
      "Scoma's Restaurant\n",
      "Purple Rice\n",
      "Liholiho Yacht Club\n",
      "Burma Superstar\n",
      "Loló\n",
      "Suppenküche\n",
      "The Front Porch\n",
      "Delarosa\n",
      "Beretta\n",
      "Daeho Kalbijjim & Beef Soup\n",
      "um.ma\n",
      "Sotto Mare Oysteria & Seafood\n",
      "San Tung\n",
      "Tropisueno\n",
      "Tuba Authentic Turkish Restaurant\n",
      "The Dorian\n",
      "Izakaya KOU\n",
      "Nara Restaurant & Sake Bar\n",
      "Barrel Head Brewhouse\n",
      "Pier Market Seafood Restaurant\n",
      "Jang Soo BBQ\n",
      "Starbelly\n",
      "Kokkari Estiatorio\n",
      "Tony's Pizza Napoletana\n",
      "Mr Szechuan\n",
      "Tataki\n",
      "Dumpling Kitchen\n",
      "Zero Zero\n",
      "Izakaya Sozai\n",
      "House of Prime Rib\n",
      "Pa'ina Lounge & Restaurant\n",
      "Gary Danko\n",
      "Z & Y Restaurant\n",
      "PPQ Dungeness Island\n",
      "Mensho Tokyo\n",
      "Dancing Yak\n",
      "Skool\n",
      "Nopa\n",
      "Hinodeya Ramen Bar\n",
      "Kin Khao\n",
      "Hogwash\n",
      "Kitchen Istanbul\n",
      "Dumpling Time\n",
      "Troya\n"
     ]
    }
   ],
   "source": [
    "#define api key, endpoint\n",
    "\n",
    "API_KEY = ''\n",
    "url = 'https://api.yelp.com/v3/businesses/search'\n",
    "HEADERS = {'Authorization':  'Bearer %s' % API_KEY}\n",
    "\n",
    "\n",
    "#define parameters for search\n",
    "\n",
    "params = {'term':'restaurants',\n",
    "          'limit': 50,\n",
    "          'radius': 10000,\n",
    "          #search by categories. code= 'categories': 'french, italian',\n",
    "          #pagination e.g., next 50 pages. code= 'offset': 50,\n",
    "          'location':'San Francisco'}\n",
    "\n",
    "#make a request to yelp api store response in variable \n",
    "\n",
    "response_Yelp = requests.get(url, params= params, headers = HEADERS)\n",
    "\n",
    "# convert the JSON string to a Dic\n",
    "data = response_Yelp.json()\n",
    "print(data.keys())\n",
    "\n",
    "#get the businesses loop through\n",
    "for business in data['businesses']:\n",
    "    print(business['name'])\n",
    "\n",
    "    "
   ]
  },
  {
   "cell_type": "code",
   "execution_count": null,
   "metadata": {},
   "outputs": [],
   "source": []
  },
  {
   "cell_type": "code",
   "execution_count": null,
   "metadata": {},
   "outputs": [],
   "source": []
  }
 ],
 "metadata": {
  "kernelspec": {
   "display_name": "PythonData",
   "language": "python",
   "name": "pythondata"
  },
  "language_info": {
   "codemirror_mode": {
    "name": "ipython",
    "version": 3
   },
   "file_extension": ".py",
   "mimetype": "text/x-python",
   "name": "python",
   "nbconvert_exporter": "python",
   "pygments_lexer": "ipython3",
   "version": "3.6.8"
  }
 },
 "nbformat": 4,
 "nbformat_minor": 2
}
